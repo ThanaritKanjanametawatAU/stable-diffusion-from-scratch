{
 "cells": [
  {
   "cell_type": "code",
   "id": "initial_id",
   "metadata": {
    "collapsed": true,
    "ExecuteTime": {
     "end_time": "2024-08-07T17:28:17.855080Z",
     "start_time": "2024-08-07T17:28:17.834962Z"
    }
   },
   "source": [
    "import torch\n",
    "\n",
    "# See if GPU is available\n",
    "print(torch.cuda.is_available())\n",
    "\n",
    "# Print Detail of GPU\n",
    "print(torch.cuda.get_device_properties(0))"
   ],
   "outputs": [
    {
     "name": "stdout",
     "output_type": "stream",
     "text": [
      "True\n",
      "_CudaDeviceProperties(name='NVIDIA GeForce GTX 1050', major=6, minor=1, total_memory=3014MB, multi_processor_count=6)\n"
     ]
    }
   ],
   "execution_count": 10
  },
  {
   "metadata": {
    "ExecuteTime": {
     "end_time": "2024-09-09T19:02:20.553968Z",
     "start_time": "2024-09-09T19:02:20.539224Z"
    }
   },
   "cell_type": "code",
   "source": [
    "import numpy as np\n",
    "\n",
    "# Set random seed for reproducibility\n",
    "np.random.seed(42)\n",
    "\n",
    "# Initialize input\n",
    "input_image = np.random.rand(8, 8, 1)\n",
    "\n",
    "# Initialize weights\n",
    "w1 = np.random.rand(3, 3, 1, 2)  # Encoder conv1\n",
    "w2 = np.random.rand(3, 3, 2, 4)  # Encoder conv2\n",
    "w3 = np.random.rand(3, 3, 4, 2)  # Decoder conv1\n",
    "w4 = np.random.rand(3, 3, 3, 1)  # Decoder conv2\n",
    "\n",
    "def print_step(step_name, data):\n",
    "    print(f\"\\n{step_name}:\")\n",
    "    # print(data)\n",
    "    print(f\"Shape: {data.shape}\")\n",
    "\n",
    "def conv2d(input, weight):\n",
    "    return np.pad(input, ((1, 1), (1, 1), (0, 0)))[1:-1, 1:-1]\n",
    "\n",
    "def pool2d(input):\n",
    "    return input[::2, ::2]\n",
    "\n",
    "def upsample2d(input):\n",
    "    return np.repeat(np.repeat(input, 2, axis=0), 2, axis=1)\n",
    "\n",
    "# Forward pass\n",
    "print_step(\"Input\", input_image)\n",
    "\n",
    "# Encoder\n",
    "conv1 = conv2d(input_image, w1)\n",
    "print_step(\"Encoder Conv1\", conv1)\n",
    "\n",
    "pool1 = pool2d(conv1)\n",
    "print_step(\"Encoder Pool1\", pool1)\n",
    "\n",
    "conv2 = conv2d(pool1, w2)\n",
    "print_step(\"Encoder Conv2\", conv2)\n",
    "\n",
    "pool2 = pool2d(conv2)\n",
    "print_step(\"Encoder Pool2 (Bottleneck)\", pool2)\n",
    "\n",
    "# Decoder\n",
    "up1 = upsample2d(pool2)\n",
    "print_step(\"Decoder Upsample1\", up1)\n",
    "\n",
    "concat1 = np.concatenate([up1, conv2], axis=2)\n",
    "print_step(\"Decoder Concat1\", concat1)\n",
    "\n",
    "conv3 = conv2d(concat1, w3)\n",
    "print_step(\"Decoder Conv1\", conv3)\n",
    "\n",
    "up2 = upsample2d(conv3)\n",
    "print_step(\"Decoder Upsample2\", up2)\n",
    "\n",
    "concat2 = np.concatenate([up2, conv1], axis=2)\n",
    "print_step(\"Decoder Concat2\", concat2)\n",
    "\n",
    "conv4 = conv2d(concat2, w4)\n",
    "print_step(\"Decoder Conv2 (Output)\", conv4)"
   ],
   "id": "34c09e5ef36c296",
   "outputs": [
    {
     "name": "stdout",
     "output_type": "stream",
     "text": [
      "\n",
      "Input:\n",
      "Shape: (8, 8, 1)\n",
      "\n",
      "Encoder Conv1:\n",
      "Shape: (8, 8, 1)\n",
      "\n",
      "Encoder Pool1:\n",
      "Shape: (4, 4, 1)\n",
      "\n",
      "Encoder Conv2:\n",
      "Shape: (4, 4, 1)\n",
      "\n",
      "Encoder Pool2 (Bottleneck):\n",
      "Shape: (2, 2, 1)\n",
      "\n",
      "Decoder Upsample1:\n",
      "Shape: (4, 4, 1)\n",
      "\n",
      "Decoder Concat1:\n",
      "Shape: (4, 4, 2)\n",
      "\n",
      "Decoder Conv1:\n",
      "Shape: (4, 4, 2)\n",
      "\n",
      "Decoder Upsample2:\n",
      "Shape: (8, 8, 2)\n",
      "\n",
      "Decoder Concat2:\n",
      "Shape: (8, 8, 3)\n",
      "\n",
      "Decoder Conv2 (Output):\n",
      "Shape: (8, 8, 3)\n"
     ]
    }
   ],
   "execution_count": 5
  },
  {
   "metadata": {},
   "cell_type": "code",
   "outputs": [],
   "execution_count": null,
   "source": "",
   "id": "2e5f4f778d640f8c"
  }
 ],
 "metadata": {
  "kernelspec": {
   "display_name": "Python 3",
   "language": "python",
   "name": "python3"
  },
  "language_info": {
   "codemirror_mode": {
    "name": "ipython",
    "version": 2
   },
   "file_extension": ".py",
   "mimetype": "text/x-python",
   "name": "python",
   "nbconvert_exporter": "python",
   "pygments_lexer": "ipython2",
   "version": "2.7.6"
  }
 },
 "nbformat": 4,
 "nbformat_minor": 5
}
